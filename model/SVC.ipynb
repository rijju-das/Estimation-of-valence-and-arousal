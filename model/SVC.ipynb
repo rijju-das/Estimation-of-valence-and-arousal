{
 "cells": [
  {
   "cell_type": "code",
   "execution_count": 12,
   "metadata": {},
   "outputs": [],
   "source": [
    "import numpy as np\n",
    "import pandas as pd\n",
    "from sklearn.svm import SVR, SVC\n",
    "from sklearn.preprocessing import StandardScaler, OneHotEncoder\n",
    "from sklearn.pipeline import Pipeline\n",
    "from sklearn.compose import ColumnTransformer\n",
    "from skimage.io import imread\n",
    "from skimage.transform import resize\n",
    "import os\n",
    "\n",
    "# Directories and file paths\n",
    "train_dir = 'train_set\\\\images'\n",
    "val_dir = 'val_set\\\\images'\n",
    "test_dir = 'test_set\\\\images'\n",
    "train_ann_file = 'train_annotation.csv'\n",
    "val_ann_file = 'val_annotation.csv'\n",
    "test_ann_file = 'val_annotation.csv'\n",
    "img_width = 227\n",
    "img_height = 227\n",
    "\n",
    "# Function to load images and annotations\n",
    "def load_data(dir_path, ann_file):\n",
    "    images = []\n",
    "    valences = []\n",
    "    arousals = []\n",
    "    emotions = []\n",
    "    filenames = os.listdir(dir_path)\n",
    "    anno = pd.read_csv(ann_file)\n",
    "    \n",
    "    for filename in filenames:\n",
    "        img_path = os.path.join(dir_path, filename)\n",
    "        img = imread(img_path)\n",
    "        img_resized = resize(img, (img_height, img_width))\n",
    "        \n",
    "        \n",
    "        row = anno[anno[\"filename\"] == int(filename.split(\".\")[0])]\n",
    "        if not row.empty:\n",
    "            images.append(img_resized.flatten())  # Flatten image to 1D array\n",
    "            valences.append(row[\"Valance\"].values[0])\n",
    "            arousals.append(row[\"Arousal\"].values[0])\n",
    "            emotions.append(row[\"Expression\"].values[0])\n",
    "    \n",
    "    return np.array(images), np.array(valences), np.array(arousals), np.array(emotions)\n",
    "\n"
   ]
  },
  {
   "cell_type": "code",
   "execution_count": 1,
   "metadata": {},
   "outputs": [],
   "source": [
    "from numba import cuda\n",
    "\n",
    "device = cuda.get_current_device()\n",
    "device.reset()\n"
   ]
  },
  {
   "cell_type": "code",
   "execution_count": 13,
   "metadata": {},
   "outputs": [],
   "source": [
    "# Load training, validation, and test data\n",
    "# X_train, y_train_valence, y_train_arousal, y_train_emotion = load_data(train_dir, train_ann_file)\n",
    "X_val, y_val_valence, y_val_arousal, y_val_emotion = load_data(val_dir, val_ann_file)"
   ]
  },
  {
   "cell_type": "code",
   "execution_count": 14,
   "metadata": {},
   "outputs": [],
   "source": [
    "X_test, y_test_valence, y_test_arousal, y_test_emotion = load_data(test_dir, val_ann_file)"
   ]
  },
  {
   "cell_type": "code",
   "execution_count": 15,
   "metadata": {},
   "outputs": [],
   "source": [
    "# Standardize features\n",
    "scaler = StandardScaler()\n",
    "# X_train_scaled = scaler.fit_transform(X_train)\n",
    "X_val_scaled = scaler.fit_transform(X_val)\n",
    "X_test_scaled = scaler.transform(X_test)\n",
    "\n",
    "# One-hot encode emotions\n",
    "one_hot_encoder = OneHotEncoder()\n",
    "# y_train_emotion_encoded = one_hot_encoder.fit_transform(y_train_emotion.reshape(-1, 1))\n",
    "y_val_emotion_encoded = one_hot_encoder.fit_transform(y_val_emotion.reshape(-1, 1))\n",
    "y_test_emotion_encoded = one_hot_encoder.transform(y_test_emotion.reshape(-1, 1))\n",
    "\n",
    "# Create and train SVR models for valence and arousal\n",
    "svr_valence = SVR(kernel='rbf')\n",
    "svr_arousal = SVR(kernel='rbf')\n",
    "svc_emotion = SVC(kernel='rbf', probability=True)"
   ]
  },
  {
   "cell_type": "code",
   "execution_count": 16,
   "metadata": {},
   "outputs": [
    {
     "ename": "",
     "evalue": "",
     "output_type": "error",
     "traceback": [
      "\u001b[1;31mThe Kernel crashed while executing code in the current cell or a previous cell. \n",
      "\u001b[1;31mPlease review the code in the cell(s) to identify a possible cause of the failure. \n",
      "\u001b[1;31mClick <a href='https://aka.ms/vscodeJupyterKernelCrash'>here</a> for more info. \n",
      "\u001b[1;31mView Jupyter <a href='command:jupyter.viewOutput'>log</a> for further details."
     ]
    }
   ],
   "source": [
    "svr_valence.fit(X_val_scaled, y_val_valence)\n",
    "svr_arousal.fit(X_val_scaled, y_val_arousal)\n",
    "svc_emotion.fit(X_val_scaled, y_val_emotion)\n",
    "\n",
    "# Evaluate models on validation set\n",
    "# valence_predictions = svr_valence.predict(X_val_scaled)\n",
    "# arousal_predictions = svr_arousal.predict(X_val_scaled)\n",
    "# emotion_predictions = svc_emotion.predict(X_val_scaled)\n",
    "\n",
    "# # Calculate evaluation metrics\n",
    "# valence_mse = np.mean((valence_predictions - y_val_valence) ** 2)\n",
    "# arousal_mse = np.mean((arousal_predictions - y_val_arousal) ** 2)\n",
    "# emotion_accuracy = np.mean(emotion_predictions == y_val_emotion)\n",
    "\n",
    "# print(f'Valence MSE: {valence_mse:.4f}')\n",
    "# print(f'Arousal MSE: {arousal_mse:.4f}')\n",
    "# print(f'Emotion Accuracy: {emotion_accuracy:.4f}')"
   ]
  },
  {
   "cell_type": "code",
   "execution_count": null,
   "metadata": {},
   "outputs": [],
   "source": [
    "# Evaluate on test set\n",
    "test_valence_predictions = svr_valence.predict(X_test_scaled)\n",
    "test_arousal_predictions = svr_arousal.predict(X_test_scaled)\n",
    "test_emotion_predictions = svc_emotion.predict(X_test_scaled)\n",
    "\n",
    "# Calculate test set evaluation metrics\n",
    "test_valence_mse = np.mean((test_valence_predictions - y_test_valence) ** 2)\n",
    "test_arousal_mse = np.mean((test_arousal_predictions - y_test_arousal) ** 2)\n",
    "test_emotion_accuracy = np.mean(test_emotion_predictions == y_test_emotion)\n",
    "\n",
    "print(f'Test Valence MSE: {test_valence_mse:.4f}')\n",
    "print(f'Test Arousal MSE: {test_arousal_mse:.4f}')\n",
    "print(f'Test Emotion Accuracy: {test_emotion_accuracy:.4f}')"
   ]
  }
 ],
 "metadata": {
  "kernelspec": {
   "display_name": "envGPU",
   "language": "python",
   "name": "python3"
  },
  "language_info": {
   "codemirror_mode": {
    "name": "ipython",
    "version": 3
   },
   "file_extension": ".py",
   "mimetype": "text/x-python",
   "name": "python",
   "nbconvert_exporter": "python",
   "pygments_lexer": "ipython3",
   "version": "3.9.19"
  }
 },
 "nbformat": 4,
 "nbformat_minor": 2
}
